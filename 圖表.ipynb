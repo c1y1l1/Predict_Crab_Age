{
 "cells": [
  {
   "cell_type": "code",
   "execution_count": 25,
   "metadata": {},
   "outputs": [],
   "source": [
    "import pandas as pd\n",
    "import matplotlib.pyplot as plt\n",
    "import seaborn as sns\n",
    "from statsmodels.stats.outliers_influence import variance_inflation_factor\n",
    "data = pd.read_csv('CrabAgePrediction.csv')\n",
    "dp = data[data['Sex']=='I'].index\n",
    "df = data.drop(dp)\n",
    "df_M = data[data['Sex']=='M']\n",
    "df_F = data[data['Sex']=='F']\n",
    "sex = df"
   ]
  },
  {
   "cell_type": "markdown",
   "metadata": {},
   "source": [
    "數據"
   ]
  },
  {
   "cell_type": "code",
   "execution_count": 26,
   "metadata": {},
   "outputs": [],
   "source": [
    "# sex_describe = sex.describe()\n",
    "# sex_describe.loc['c.v.'] = ((sex_describe.loc['std']**2/sex_describe.loc['mean'])*100)\n",
    "# sex_describe.loc['skew'] = (sex.skew())\n",
    "# sex_describe.loc['kurt'] = (sex.kurt())\n",
    "# sex_describe"
   ]
  },
  {
   "cell_type": "markdown",
   "metadata": {},
   "source": [
    "性別圓餅圖"
   ]
  },
  {
   "cell_type": "code",
   "execution_count": 27,
   "metadata": {},
   "outputs": [],
   "source": [
    "# plt.pie([len(df_M.index),len(df_F.index)],\n",
    "#         labels=['M','F'],\n",
    "#         autopct = \"%1.1f%%\",\n",
    "#         textprops = {\"fontsize\" : 14},\n",
    "#         startangle = 90,\n",
    "#         shadow=True)\n",
    "# plt.show()"
   ]
  },
  {
   "cell_type": "markdown",
   "metadata": {},
   "source": [
    "綜合盒鬚圖"
   ]
  },
  {
   "cell_type": "code",
   "execution_count": 28,
   "metadata": {},
   "outputs": [],
   "source": [
    "# df.iloc[:,4:9].plot.box(title=\"Crab\", figsize=(12,6), grid=True)\n",
    "# df.iloc[:,1:4].plot.box(title=\"Crab\", figsize=(12,6), grid=True)\n",
    "# plt.show()"
   ]
  },
  {
   "cell_type": "markdown",
   "metadata": {},
   "source": [
    "數值位於範圍外1.5×IQR到3×IQR範圍的數值，稱作適度離群值（mild outlier）。   \n",
    "數值位於範圍外3×IQR以上的數值，稱作極端離群值（extreme outlier）"
   ]
  },
  {
   "cell_type": "code",
   "execution_count": 29,
   "metadata": {},
   "outputs": [
    {
     "name": "stderr",
     "output_type": "stream",
     "text": [
      "C:\\Users\\allen\\AppData\\Local\\Temp\\ipykernel_11040\\2887850038.py:4: FutureWarning: Automatic reindexing on DataFrame vs Series comparisons is deprecated and will raise ValueError in a future version. Do `left, right = left.align(right, axis=1, copy=False)` before e.g. `left == right`\n",
      "  extreme_outlier = sex[(sex > sex.quantile(0.75)+3*IQR)|(sex < sex.quantile(0.25)-3*IQR)]\n"
     ]
    }
   ],
   "source": [
    "IQR = sex.quantile(0.75)-sex.quantile(0.25)\n",
    "# mild_outlier = sex[((sex.quantile(0.75)+1.5*IQR < sex) & (sex < sex.quantile(0.75)+3*IQR))\n",
    "#                     | ((sex.quantile(0.25)-1.5*IQR > sex) & (sex > sex.quantile(0.25)-3*IQR))]\n",
    "extreme_outlier = sex[(sex > sex.quantile(0.75)+3*IQR)|(sex < sex.quantile(0.25)-3*IQR)]"
   ]
  },
  {
   "cell_type": "markdown",
   "metadata": {},
   "source": [
    "散布圖矩陣"
   ]
  },
  {
   "cell_type": "code",
   "execution_count": 30,
   "metadata": {},
   "outputs": [],
   "source": [
    "# sex = df_F\n",
    "# sns.pairplot(sex, hue=\"Sex\")"
   ]
  },
  {
   "cell_type": "markdown",
   "metadata": {},
   "source": [
    "相關係數"
   ]
  },
  {
   "cell_type": "code",
   "execution_count": 31,
   "metadata": {},
   "outputs": [],
   "source": [
    "# sex.corr()"
   ]
  },
  {
   "cell_type": "code",
   "execution_count": 32,
   "metadata": {},
   "outputs": [],
   "source": [
    "# plt.figure(figsize=(7, 7))\n",
    "# sns.heatmap(sex.corr(), annot=True, square=True);\n",
    "# plt.tick_params(top=True, bottom=False,\n",
    "#                    labeltop=True, labelbottom=False)\n",
    "# plt.xticks(rotation=90)\n",
    "# plt.show()"
   ]
  },
  {
   "cell_type": "markdown",
   "metadata": {},
   "source": [
    "VIF"
   ]
  },
  {
   "cell_type": "code",
   "execution_count": 33,
   "metadata": {},
   "outputs": [
    {
     "data": {
      "text/html": [
       "<div>\n",
       "<style scoped>\n",
       "    .dataframe tbody tr th:only-of-type {\n",
       "        vertical-align: middle;\n",
       "    }\n",
       "\n",
       "    .dataframe tbody tr th {\n",
       "        vertical-align: top;\n",
       "    }\n",
       "\n",
       "    .dataframe thead th {\n",
       "        text-align: right;\n",
       "    }\n",
       "</style>\n",
       "<table border=\"1\" class=\"dataframe\">\n",
       "  <thead>\n",
       "    <tr style=\"text-align: right;\">\n",
       "      <th></th>\n",
       "      <th>variable</th>\n",
       "      <th>VIF</th>\n",
       "    </tr>\n",
       "  </thead>\n",
       "  <tbody>\n",
       "    <tr>\n",
       "      <th>0</th>\n",
       "      <td>Length</td>\n",
       "      <td>783.464056</td>\n",
       "    </tr>\n",
       "    <tr>\n",
       "      <th>1</th>\n",
       "      <td>Diameter</td>\n",
       "      <td>824.792279</td>\n",
       "    </tr>\n",
       "    <tr>\n",
       "      <th>2</th>\n",
       "      <td>Height</td>\n",
       "      <td>37.283525</td>\n",
       "    </tr>\n",
       "    <tr>\n",
       "      <th>3</th>\n",
       "      <td>Weight</td>\n",
       "      <td>453.797881</td>\n",
       "    </tr>\n",
       "    <tr>\n",
       "      <th>4</th>\n",
       "      <td>Shucked Weight</td>\n",
       "      <td>124.535562</td>\n",
       "    </tr>\n",
       "    <tr>\n",
       "      <th>5</th>\n",
       "      <td>Viscera Weight</td>\n",
       "      <td>64.848742</td>\n",
       "    </tr>\n",
       "    <tr>\n",
       "      <th>6</th>\n",
       "      <td>Shell Weight</td>\n",
       "      <td>86.205911</td>\n",
       "    </tr>\n",
       "    <tr>\n",
       "      <th>7</th>\n",
       "      <td>Age</td>\n",
       "      <td>21.336765</td>\n",
       "    </tr>\n",
       "  </tbody>\n",
       "</table>\n",
       "</div>"
      ],
      "text/plain": [
       "         variable         VIF\n",
       "0          Length  783.464056\n",
       "1        Diameter  824.792279\n",
       "2          Height   37.283525\n",
       "3          Weight  453.797881\n",
       "4  Shucked Weight  124.535562\n",
       "5  Viscera Weight   64.848742\n",
       "6    Shell Weight   86.205911\n",
       "7             Age   21.336765"
      ]
     },
     "execution_count": 33,
     "metadata": {},
     "output_type": "execute_result"
    }
   ],
   "source": [
    "vif = pd.DataFrame()\n",
    "vif['variable'] = sex.iloc[:,1:9].columns\n",
    "vif[\"VIF\"] = [variance_inflation_factor(sex.iloc[:,1:9], i) for i in range(len(sex.iloc[:,1:9].columns))]\n",
    "vif"
   ]
  },
  {
   "cell_type": "markdown",
   "metadata": {},
   "source": [
    "## 以性別區分"
   ]
  },
  {
   "cell_type": "markdown",
   "metadata": {},
   "source": [
    "盒鬚圖"
   ]
  },
  {
   "cell_type": "markdown",
   "metadata": {},
   "source": [
    "重量"
   ]
  },
  {
   "cell_type": "code",
   "execution_count": 34,
   "metadata": {},
   "outputs": [],
   "source": [
    "# plt.figure()\n",
    "# df.boxplot(column=[\"Weight\", \"Shucked Weight\", \"Viscera Weight\", \"Shell Weight\"], by=\"Sex\", figsize=(12, 12))\n",
    "# plt.show()"
   ]
  },
  {
   "cell_type": "markdown",
   "metadata": {},
   "source": [
    "長度"
   ]
  },
  {
   "cell_type": "code",
   "execution_count": 35,
   "metadata": {},
   "outputs": [],
   "source": [
    "# plt.figure(figsize=(17, 17))\n",
    "# df.boxplot(column=['Length', 'Diameter', 'Height'], by=\"Sex\", figsize=(12, 12), )\n",
    "# plt.show()"
   ]
  },
  {
   "cell_type": "code",
   "execution_count": 36,
   "metadata": {},
   "outputs": [],
   "source": [
    "# plt.figure()\n",
    "# df.boxplot(column=\"Age\", by=\"Sex\")\n",
    "# plt.show()"
   ]
  }
 ],
 "metadata": {
  "interpreter": {
   "hash": "3e30c83b22147918c25b1d9fc834badab54b575e3debac97aebc070033583df6"
  },
  "kernelspec": {
   "display_name": "Python 3.10.2 64-bit",
   "language": "python",
   "name": "python3"
  },
  "language_info": {
   "codemirror_mode": {
    "name": "ipython",
    "version": 3
   },
   "file_extension": ".py",
   "mimetype": "text/x-python",
   "name": "python",
   "nbconvert_exporter": "python",
   "pygments_lexer": "ipython3",
   "version": "3.10.7"
  },
  "orig_nbformat": 4
 },
 "nbformat": 4,
 "nbformat_minor": 2
}
